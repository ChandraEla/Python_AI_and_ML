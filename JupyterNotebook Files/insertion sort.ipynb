{
 "cells": [
  {
   "cell_type": "code",
   "execution_count": 10,
   "metadata": {},
   "outputs": [
    {
     "name": "stdout",
     "output_type": "stream",
     "text": [
      "[31, 41, 59, 26, 41, 58]\n",
      "[31, 41, 59, 26, 41, 58]\n",
      "[26, 31, 41, 59, 41, 58]\n",
      "[26, 31, 41, 41, 59, 58]\n",
      "[26, 31, 41, 41, 58, 59]\n",
      "5\n"
     ]
    }
   ],
   "source": [
    "'''def insertionSort(arg):\n",
    "    for i in range(1,len[arg]):\n",
    "        temp= arg[i]\n",
    "        j=i-1\n",
    "        while j>=0 and key <arg[j]:\n",
    "            #swapping\n",
    "            arg[j+1]=arg[j]\n",
    "            j=j-1\n",
    "        arg[j+1]=temp\n",
    "     \n",
    "arry=[2,8,6,9,7,8,5,1,3,6,5,8]\n",
    "insertionSort(arry)'''\n",
    "\n",
    "\n",
    "\n",
    "arg=[31,41,59,26,41,58]\n",
    "z=0\n",
    "for i in range(1,len(arg)):\n",
    "    temp= arg[i]\n",
    "    j=i-1\n",
    "    while j>=0 and temp <arg[j]:\n",
    "         #swapping\n",
    "         arg[j+1]=arg[j]\n",
    "         j=j-1\n",
    "    arg[j+1]=temp\n",
    "    print(arg)\n",
    "    z+=1\n",
    "print(z)    \n",
    "     \n",
    "\n",
    "\n",
    "\n",
    "\n",
    "        "
   ]
  },
  {
   "cell_type": "code",
   "execution_count": null,
   "metadata": {},
   "outputs": [],
   "source": []
  }
 ],
 "metadata": {
  "kernelspec": {
   "display_name": "Python 3",
   "language": "python",
   "name": "python3"
  },
  "language_info": {
   "codemirror_mode": {
    "name": "ipython",
    "version": 3
   },
   "file_extension": ".py",
   "mimetype": "text/x-python",
   "name": "python",
   "nbconvert_exporter": "python",
   "pygments_lexer": "ipython3",
   "version": "3.7.1"
  }
 },
 "nbformat": 4,
 "nbformat_minor": 2
}

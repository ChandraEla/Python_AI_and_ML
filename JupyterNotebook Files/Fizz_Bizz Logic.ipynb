{
 "cells": [
  {
   "cell_type": "code",
   "execution_count": 8,
   "metadata": {},
   "outputs": [
    {
     "name": "stdout",
     "output_type": "stream",
     "text": [
      "10\n",
      "1\n",
      "2\n",
      "Fizz\n",
      "4\n",
      "Buzz\n",
      "Fizz\n",
      "7\n",
      "8\n",
      "Fizz\n"
     ]
    }
   ],
   "source": [
    "count= int(input())\n",
    "i=1\n",
    "for i in range(1,count):\n",
    "    if i%3==0:\n",
    "        print(\"Fizz\")\n",
    "        continue\n",
    "    if i%5==0:\n",
    "        print(\"Buzz\")\n",
    "        continue\n",
    "    if (i%5==0) & ( i%3==0):\n",
    "        print(\"FizzBuzz\")\n",
    "        continue\n",
    "    else:\n",
    "        print(i)"
   ]
  }
 ],
 "metadata": {
  "kernelspec": {
   "display_name": "Python 3",
   "language": "python",
   "name": "python3"
  },
  "language_info": {
   "codemirror_mode": {
    "name": "ipython",
    "version": 3
   },
   "file_extension": ".py",
   "mimetype": "text/x-python",
   "name": "python",
   "nbconvert_exporter": "python",
   "pygments_lexer": "ipython3",
   "version": "3.7.1"
  }
 },
 "nbformat": 4,
 "nbformat_minor": 2
}

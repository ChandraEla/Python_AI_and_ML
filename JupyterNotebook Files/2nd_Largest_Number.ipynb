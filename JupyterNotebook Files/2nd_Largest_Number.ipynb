{
 "cells": [
  {
   "cell_type": "code",
   "execution_count": 1,
   "metadata": {},
   "outputs": [
    {
     "name": "stdout",
     "output_type": "stream",
     "text": [
      "6,-9,8,69,78,-965\n",
      "69\n"
     ]
    }
   ],
   "source": [
    "user_input = input()\n",
    "newlist = [int(i) for i in user_input.split(',')]\n",
    "i=0\n",
    "for i in range(i,len(newlist)):\n",
    "    for j in range (i+1,len(newlist)):\n",
    "        if newlist[i]>newlist[j]:\n",
    "            #Swap\n",
    "            temp = newlist[i]\n",
    "            newlist[i]= newlist[j]\n",
    "            newlist[j]= temp\n",
    "            \n",
    "new_set= set(newlist)\n",
    "newList= (sorted(new_set))\n",
    "\n",
    "for i in newlist:\n",
    "    if i==newlist[0]:\n",
    "       flag = True\n",
    "    else:\n",
    "         flag = False\n",
    "    \n",
    "        \n",
    "if  flag:\n",
    "    print (\"Error\")\n",
    "else:\n",
    "    print(str(newList[-2]))  "
   ]
  },
  {
   "cell_type": "code",
   "execution_count": null,
   "metadata": {},
   "outputs": [],
   "source": []
  }
 ],
 "metadata": {
  "kernelspec": {
   "display_name": "Python 3",
   "language": "python",
   "name": "python3"
  },
  "language_info": {
   "codemirror_mode": {
    "name": "ipython",
    "version": 3
   },
   "file_extension": ".py",
   "mimetype": "text/x-python",
   "name": "python",
   "nbconvert_exporter": "python",
   "pygments_lexer": "ipython3",
   "version": "3.7.1"
  }
 },
 "nbformat": 4,
 "nbformat_minor": 2
}
